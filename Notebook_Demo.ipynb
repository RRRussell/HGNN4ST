{
 "cells": [
  {
   "cell_type": "code",
   "execution_count": 1,
   "metadata": {},
   "outputs": [],
   "source": [
    "import torch\n",
    "import torch.nn.functional as F\n",
    "from torch_geometric.loader import NeighborSampler\n",
    "from utils import load_data, load_parameter, evaluate\n",
    "from model import GraphAutoencoder, NoisePredictor, custom_readout"
   ]
  },
  {
   "cell_type": "code",
   "execution_count": 2,
   "metadata": {},
   "outputs": [
    {
     "name": "stderr",
     "output_type": "stream",
     "text": [
      "/home/zihend1/.conda/envs/py38/lib/python3.8/site-packages/anndata/_core/anndata.py:1840: UserWarning: Variable names are not unique. To make them unique, call `.var_names_make_unique`.\n",
      "  utils.warn_names_duplicates(\"var\")\n",
      "/home/zihend1/.conda/envs/py38/lib/python3.8/site-packages/anndata/_core/anndata.py:1840: UserWarning: Variable names are not unique. To make them unique, call `.var_names_make_unique`.\n",
      "  utils.warn_names_duplicates(\"var\")\n",
      "/home/zihend1/.conda/envs/py38/lib/python3.8/site-packages/scanpy/preprocessing/_normalization.py:169: UserWarning: Received a view of an AnnData. Making a copy.\n",
      "  view_to_actual(adata)\n",
      "/home/zihend1/.conda/envs/py38/lib/python3.8/site-packages/scanpy/preprocessing/_normalization.py:196: UserWarning: Some cells have zero counts\n",
      "  warn(UserWarning('Some cells have zero counts'))\n"
     ]
    },
    {
     "name": "stdout",
     "output_type": "stream",
     "text": [
      "AnnData object details: AnnData object with n_obs × n_vars = 502009 × 3000\n",
      "    var: 'gene_ids', 'feature_types', 'genome', 'n_cells', 'highly_variable', 'highly_variable_rank', 'means', 'variances', 'variances_norm'\n",
      "    uns: 'hvg', 'log1p'\n",
      "Index(['Xkr4', 'Sox17', 'Lypla1', 'Atp6v1h', 'Adhfe1', 'Lactb2', 'Sbspon',\n",
      "       'Pi15', 'Tfap2b', 'Gsta3',\n",
      "       ...\n",
      "       'S100g', 'Grpr', 'Cltrn', 'Ace2', 'Vegfd', 'Piga', 'Egfl6', 'Tmsb4x',\n",
      "       'Prps2', 'Zfy1'],\n",
      "      dtype='object', length=3000)\n",
      "Index(['s_008um_00301_00321-1', 's_008um_00602_00290-1',\n",
      "       's_008um_00789_00234-1', 's_008um_00728_00006-1',\n",
      "       's_008um_00526_00291-1', 's_008um_00681_00396-1',\n",
      "       's_008um_00078_00444-1', 's_008um_00128_00278-1',\n",
      "       's_008um_00052_00559-1', 's_008um_00121_00413-1',\n",
      "       ...\n",
      "       's_008um_00572_00609-1', 's_008um_00536_00521-1',\n",
      "       's_008um_00821_00426-1', 's_008um_00808_00300-1',\n",
      "       's_008um_00197_00639-1', 's_008um_00252_00421-1',\n",
      "       's_008um_00653_00166-1', 's_008um_00565_00244-1',\n",
      "       's_008um_00353_00477-1', 's_008um_00595_00611-1'],\n",
      "      dtype='object', length=502009)\n",
      "Super node gene expression data (top 3000 HVGs):\n",
      "              Xkr4  Sox17    Lypla1   Atp6v1h    Adhfe1    Lactb2  Sbspon  \\\n",
      "super node                                                                 \n",
      "00000_00028   0.0    0.0  0.000000  0.000000  0.000000  0.000000     0.0   \n",
      "00000_00029   0.0    0.0  2.181034  1.830495  2.645638  3.758774     0.0   \n",
      "00000_00030   0.0    0.0  2.442712  1.648982  2.754035  3.266144     0.0   \n",
      "00000_00031   0.0    0.0  0.000000  2.921468  2.082862  2.445915     0.0   \n",
      "00000_00032   0.0    0.0  2.727809  2.354503  1.752056  2.354503     0.0   \n",
      "\n",
      "             Pi15    Tfap2b     Gsta3  ...     S100g  Grpr     Cltrn  \\\n",
      "super node                             ...                             \n",
      "00000_00028   0.0  0.000000  0.000000  ...  0.000000   0.0  3.893389   \n",
      "00000_00029   0.0  0.000000  1.286056  ...  1.286056   0.0  4.272479   \n",
      "00000_00030   0.0  1.131673  1.648982  ...  1.131673   0.0  4.282601   \n",
      "00000_00031   0.0  1.507118  2.082862  ...  2.445915   0.0  3.094773   \n",
      "00000_00032   0.0  1.752056  0.000000  ...  2.354503   0.0  2.354503   \n",
      "\n",
      "                 Ace2     Vegfd      Piga     Egfl6    Tmsb4x     Prps2  Zfy1  \n",
      "super node                                                                     \n",
      "00000_00028  3.220413  0.000000  0.000000  0.000000  5.131491  0.000000   0.0  \n",
      "00000_00029  1.286056  0.000000  0.000000  0.000000  1.830495  0.000000   0.0  \n",
      "00000_00030  0.000000  0.000000  1.131673  0.000000  2.241067  1.131673   0.0  \n",
      "00000_00031  1.507118  1.507118  1.507118  1.507118  5.232318  1.507118   0.0  \n",
      "00000_00032  1.752056  0.000000  1.752056  0.000000  4.567768  0.000000   0.0  \n",
      "\n",
      "[5 rows x 3000 columns]\n",
      "Position data sample:\n",
      "                        in_tissue  array_row  array_col  pxl_row_in_fullres  \\\n",
      "barcode                                                                      \n",
      "s_008um_00000_00000-1          0          0          0        26725.283211   \n",
      "s_008um_00000_00001-1          0          0          1        26725.201859   \n",
      "s_008um_00000_00002-1          0          0          2        26725.120508   \n",
      "s_008um_00000_00003-1          0          0          3        26725.039156   \n",
      "s_008um_00000_00004-1          0          0          4        26724.957805   \n",
      "\n",
      "                       pxl_col_in_fullres  \n",
      "barcode                                    \n",
      "s_008um_00000_00000-1         4693.297082  \n",
      "s_008um_00000_00001-1         4722.507799  \n",
      "s_008um_00000_00002-1         4751.718519  \n",
      "s_008um_00000_00003-1         4780.929241  \n",
      "s_008um_00000_00004-1         4810.139964  \n",
      "Super node to ordinary node mapping sample:\n",
      "                                                           node\n",
      "super node                                                    \n",
      "00000_00028  ['s_008um_00000_00196-1', 's_008um_00000_00194...\n",
      "00000_00029  ['s_008um_00000_00202-1', 's_008um_00000_00201...\n",
      "00000_00030  ['s_008um_00000_00205-1', 's_008um_00000_00208...\n",
      "00000_00031  ['s_008um_00000_00211-1', 's_008um_00000_00212...\n",
      "00000_00032  ['s_008um_00000_00220-1', 's_008um_00000_00223...\n"
     ]
    },
    {
     "name": "stderr",
     "output_type": "stream",
     "text": [
      "Processing super nodes:  12%|█▏        | 30/256 [00:00<00:01, 115.80it/s]"
     ]
    },
    {
     "name": "stdout",
     "output_type": "stream",
     "text": [
      "Subgraph for super node 00000_00028 has 3 nodes and 2 edges.\n",
      "Subgraph for super node 00000_00029 has 7 nodes and 6 edges.\n",
      "Subgraph for super node 00000_00030 has 7 nodes and 6 edges.\n",
      "Subgraph for super node 00000_00031 has 7 nodes and 6 edges.\n",
      "Subgraph for super node 00000_00032 has 7 nodes and 6 edges.\n",
      "Subgraph for super node 00000_00033 has 7 nodes and 6 edges.\n",
      "Subgraph for super node 00000_00034 has 7 nodes and 6 edges.\n",
      "Subgraph for super node 00000_00035 has 7 nodes and 6 edges.\n",
      "Subgraph for super node 00000_00036 has 7 nodes and 6 edges.\n",
      "Subgraph for super node 00000_00037 has 7 nodes and 6 edges.\n",
      "Subgraph for super node 00000_00038 has 7 nodes and 6 edges.\n",
      "Subgraph for super node 00000_00039 has 7 nodes and 6 edges.\n",
      "Subgraph for super node 00000_00040 has 7 nodes and 6 edges.\n",
      "Subgraph for super node 00000_00041 has 7 nodes and 6 edges.\n",
      "Subgraph for super node 00000_00042 has 7 nodes and 6 edges.\n",
      "Subgraph for super node 00000_00043 has 7 nodes and 6 edges.\n",
      "Subgraph for super node 00000_00044 has 7 nodes and 6 edges.\n",
      "Subgraph for super node 00000_00045 has 7 nodes and 6 edges.\n",
      "Subgraph for super node 00000_00046 has 7 nodes and 6 edges.\n",
      "Subgraph for super node 00000_00047 has 7 nodes and 6 edges.\n",
      "Subgraph for super node 00000_00048 has 7 nodes and 6 edges.\n",
      "Subgraph for super node 00000_00049 has 7 nodes and 6 edges.\n",
      "Subgraph for super node 00000_00050 has 7 nodes and 6 edges.\n",
      "Subgraph for super node 00000_00051 has 7 nodes and 6 edges.\n",
      "Subgraph for super node 00000_00052 has 7 nodes and 6 edges.\n",
      "Subgraph for super node 00000_00053 has 7 nodes and 6 edges.\n",
      "Subgraph for super node 00000_00054 has 7 nodes and 6 edges.\n",
      "Subgraph for super node 00000_00055 has 7 nodes and 6 edges.\n",
      "Subgraph for super node 00000_00056 has 7 nodes and 6 edges.\n",
      "Subgraph for super node 00000_00057 has 7 nodes and 6 edges.\n",
      "Subgraph for super node 00000_00058 has 7 nodes and 6 edges.\n",
      "Subgraph for super node 00000_00059 has 7 nodes and 6 edges.\n",
      "Subgraph for super node 00000_00060 has 7 nodes and 6 edges.\n",
      "Subgraph for super node 00000_00061 has 7 nodes and 6 edges.\n",
      "Subgraph for super node 00000_00062 has 7 nodes and 6 edges.\n",
      "Subgraph for super node 00000_00063 has 7 nodes and 6 edges.\n",
      "Subgraph for super node 00000_00064 has 7 nodes and 6 edges.\n",
      "Subgraph for super node 00000_00065 has 7 nodes and 6 edges.\n",
      "Subgraph for super node 00000_00066 has 7 nodes and 6 edges.\n",
      "Subgraph for super node 00000_00067 has 7 nodes and 6 edges.\n",
      "Subgraph for super node 00000_00068 has 7 nodes and 6 edges.\n",
      "Subgraph for super node 00000_00069 has 7 nodes and 6 edges.\n",
      "Subgraph for super node 00000_00070 has 7 nodes and 6 edges.\n",
      "Subgraph for super node 00000_00071 has 7 nodes and 6 edges.\n",
      "Subgraph for super node 00000_00072 has 7 nodes and 6 edges.\n",
      "Subgraph for super node 00000_00073 has 7 nodes and 6 edges.\n",
      "Subgraph for super node 00000_00074 has 7 nodes and 6 edges.\n",
      "Subgraph for super node 00000_00075 has 7 nodes and 6 edges.\n",
      "Subgraph for super node 00000_00076 has 7 nodes and 6 edges.\n",
      "Subgraph for super node 00000_00077 has 7 nodes and 6 edges.\n",
      "Subgraph for super node 00000_00078 has 7 nodes and 6 edges.\n",
      "Subgraph for super node 00000_00079 has 7 nodes and 6 edges.\n",
      "Subgraph for super node 00000_00080 has 7 nodes and 6 edges.\n",
      "Subgraph for super node 00000_00081 has 7 nodes and 6 edges.\n",
      "Subgraph for super node 00000_00082 has 7 nodes and 6 edges.\n",
      "Subgraph for super node 00000_00083 has 7 nodes and 6 edges.\n",
      "Subgraph for super node 00000_00084 has 7 nodes and 6 edges.\n",
      "Subgraph for super node 00000_00085 has 7 nodes and 6 edges.\n",
      "Subgraph for super node 00000_00086 has 7 nodes and 6 edges.\n"
     ]
    },
    {
     "name": "stderr",
     "output_type": "stream",
     "text": [
      "Processing super nodes:  23%|██▎       | 59/256 [00:00<00:01, 177.18it/s]"
     ]
    },
    {
     "name": "stdout",
     "output_type": "stream",
     "text": [
      "Subgraph for super node 00000_00087 has 7 nodes and 6 edges.\n",
      "Subgraph for super node 00000_00088 has 7 nodes and 6 edges.\n",
      "Subgraph for super node 00000_00089 has 7 nodes and 6 edges.\n",
      "Subgraph for super node 00000_00090 has 7 nodes and 6 edges.\n",
      "Subgraph for super node 00000_00091 has 7 nodes and 6 edges.\n",
      "Subgraph for super node 00000_00092 has 7 nodes and 6 edges.\n",
      "Subgraph for super node 00000_00093 has 7 nodes and 6 edges.\n",
      "Subgraph for super node 00000_00094 has 7 nodes and 6 edges.\n",
      "Subgraph for super node 00000_00095 has 7 nodes and 6 edges.\n",
      "Subgraph for super node 00001_00027 has 7 nodes and 13 edges.\n",
      "Subgraph for super node 00001_00028 has 44 nodes and 138 edges.\n",
      "Subgraph for super node 00001_00029 has 49 nodes and 156 edges.\n",
      "Subgraph for super node 00001_00030 has 49 nodes and 156 edges.\n",
      "Subgraph for super node 00001_00031 has 49 nodes and 156 edges.\n",
      "Subgraph for super node 00001_00032 has 49 nodes and 156 edges.\n",
      "Subgraph for super node 00001_00033 has 49 nodes and 156 edges.\n",
      "Subgraph for super node 00001_00034 has 49 nodes and 156 edges.\n",
      "Subgraph for super node 00001_00035 has 49 nodes and 156 edges.\n",
      "Subgraph for super node 00001_00036 has 49 nodes and 156 edges.\n",
      "Subgraph for super node 00001_00037 has 49 nodes and 156 edges.\n",
      "Subgraph for super node 00001_00038 has 49 nodes and 156 edges.\n",
      "Subgraph for super node 00001_00039 has 49 nodes and 156 edges.\n"
     ]
    },
    {
     "name": "stderr",
     "output_type": "stream",
     "text": [
      "Processing super nodes:  32%|███▏      | 82/256 [00:01<00:03, 53.86it/s] "
     ]
    },
    {
     "name": "stdout",
     "output_type": "stream",
     "text": [
      "Subgraph for super node 00001_00040 has 49 nodes and 156 edges.\n",
      "Subgraph for super node 00001_00041 has 49 nodes and 156 edges.\n",
      "Subgraph for super node 00001_00042 has 49 nodes and 156 edges.\n",
      "Subgraph for super node 00001_00043 has 49 nodes and 156 edges.\n",
      "Subgraph for super node 00001_00044 has 49 nodes and 156 edges.\n",
      "Subgraph for super node 00001_00045 has 49 nodes and 156 edges.\n",
      "Subgraph for super node 00001_00046 has 49 nodes and 156 edges.\n",
      "Subgraph for super node 00001_00047 has 49 nodes and 156 edges.\n",
      "Subgraph for super node 00001_00048 has 49 nodes and 156 edges.\n",
      "Subgraph for super node 00001_00049 has 49 nodes and 156 edges.\n",
      "Subgraph for super node 00001_00050 has 49 nodes and 156 edges.\n",
      "Subgraph for super node 00001_00051 has 49 nodes and 156 edges.\n",
      "Subgraph for super node 00001_00052 has 49 nodes and 156 edges.\n",
      "Subgraph for super node 00001_00053 has 49 nodes and 156 edges.\n"
     ]
    },
    {
     "name": "stderr",
     "output_type": "stream",
     "text": [
      "Processing super nodes:  38%|███▊      | 97/256 [00:02<00:05, 27.58it/s]"
     ]
    },
    {
     "name": "stdout",
     "output_type": "stream",
     "text": [
      "Subgraph for super node 00001_00054 has 49 nodes and 156 edges.\n",
      "Subgraph for super node 00001_00055 has 49 nodes and 156 edges.\n",
      "Subgraph for super node 00001_00056 has 49 nodes and 156 edges.\n",
      "Subgraph for super node 00001_00057 has 49 nodes and 156 edges.\n",
      "Subgraph for super node 00001_00058 has 49 nodes and 156 edges.\n",
      "Subgraph for super node 00001_00059 has 49 nodes and 156 edges.\n",
      "Subgraph for super node 00001_00060 has 49 nodes and 156 edges.\n",
      "Subgraph for super node 00001_00061 has 49 nodes and 156 edges.\n",
      "Subgraph for super node 00001_00062 has 49 nodes and 156 edges.\n",
      "Subgraph for super node 00001_00063 has 49 nodes and 156 edges.\n",
      "Subgraph for super node 00001_00064 has 49 nodes and 156 edges.\n"
     ]
    },
    {
     "name": "stderr",
     "output_type": "stream",
     "text": [
      "Processing super nodes:  42%|████▏     | 107/256 [00:03<00:06, 23.68it/s]"
     ]
    },
    {
     "name": "stdout",
     "output_type": "stream",
     "text": [
      "Subgraph for super node 00001_00065 has 49 nodes and 156 edges.\n",
      "Subgraph for super node 00001_00066 has 49 nodes and 156 edges.\n",
      "Subgraph for super node 00001_00067 has 49 nodes and 156 edges.\n",
      "Subgraph for super node 00001_00068 has 49 nodes and 156 edges.\n",
      "Subgraph for super node 00001_00069 has 49 nodes and 156 edges.\n"
     ]
    },
    {
     "name": "stderr",
     "output_type": "stream",
     "text": [
      "Processing super nodes:  45%|████▍     | 114/256 [00:03<00:06, 21.70it/s]"
     ]
    },
    {
     "name": "stdout",
     "output_type": "stream",
     "text": [
      "Subgraph for super node 00001_00070 has 49 nodes and 156 edges.\n",
      "Subgraph for super node 00001_00071 has 49 nodes and 156 edges.\n",
      "Subgraph for super node 00001_00072 has 49 nodes and 156 edges.\n",
      "Subgraph for super node 00001_00073 has 49 nodes and 156 edges.\n",
      "Subgraph for super node 00001_00074 has 49 nodes and 156 edges.\n",
      "Subgraph for super node 00001_00075 has 49 nodes and 156 edges.\n"
     ]
    },
    {
     "name": "stderr",
     "output_type": "stream",
     "text": [
      "Processing super nodes:  47%|████▋     | 120/256 [00:04<00:06, 20.13it/s]"
     ]
    },
    {
     "name": "stdout",
     "output_type": "stream",
     "text": [
      "Subgraph for super node 00001_00076 has 49 nodes and 156 edges.\n",
      "Subgraph for super node 00001_00077 has 49 nodes and 156 edges.\n",
      "Subgraph for super node 00001_00078 has 49 nodes and 156 edges.\n",
      "Subgraph for super node 00001_00079 has 49 nodes and 156 edges.\n",
      "Subgraph for super node 00001_00080 has 49 nodes and 156 edges.\n",
      "Subgraph for super node 00001_00081 has 49 nodes and 156 edges.\n"
     ]
    },
    {
     "name": "stderr",
     "output_type": "stream",
     "text": [
      "Processing super nodes:  48%|████▊     | 124/256 [00:04<00:06, 19.15it/s]"
     ]
    },
    {
     "name": "stdout",
     "output_type": "stream",
     "text": [
      "Subgraph for super node 00001_00082 has 49 nodes and 156 edges.\n",
      "Subgraph for super node 00001_00083 has 49 nodes and 156 edges.\n",
      "Subgraph for super node 00001_00084 has 49 nodes and 156 edges.\n",
      "Subgraph for super node 00001_00085 has 49 nodes and 156 edges.\n",
      "Subgraph for super node 00001_00086 has 49 nodes and 156 edges.\n"
     ]
    },
    {
     "name": "stderr",
     "output_type": "stream",
     "text": [
      "Processing super nodes:  51%|█████     | 131/256 [00:04<00:07, 17.73it/s]"
     ]
    },
    {
     "name": "stdout",
     "output_type": "stream",
     "text": [
      "Subgraph for super node 00001_00087 has 49 nodes and 156 edges.\n",
      "Subgraph for super node 00001_00088 has 49 nodes and 156 edges.\n",
      "Subgraph for super node 00001_00089 has 49 nodes and 156 edges.\n",
      "Subgraph for super node 00001_00090 has 49 nodes and 156 edges.\n",
      "Subgraph for super node 00001_00091 has 49 nodes and 156 edges.\n"
     ]
    },
    {
     "name": "stderr",
     "output_type": "stream",
     "text": [
      "Processing super nodes:  55%|█████▌    | 141/256 [00:05<00:06, 18.96it/s]"
     ]
    },
    {
     "name": "stdout",
     "output_type": "stream",
     "text": [
      "Subgraph for super node 00001_00092 has 49 nodes and 156 edges.\n",
      "Subgraph for super node 00001_00093 has 49 nodes and 156 edges.\n",
      "Subgraph for super node 00001_00094 has 49 nodes and 156 edges.\n",
      "Subgraph for super node 00001_00095 has 49 nodes and 156 edges.\n",
      "Subgraph for super node 00001_00096 has 19 nodes and 48 edges.\n",
      "Subgraph for super node 00002_00026 has 4 nodes and 4 edges.\n",
      "Subgraph for super node 00002_00027 has 43 nodes and 135 edges.\n",
      "Subgraph for super node 00002_00028 has 49 nodes and 156 edges.\n"
     ]
    },
    {
     "name": "stderr",
     "output_type": "stream",
     "text": [
      "Processing super nodes:  57%|█████▋    | 146/256 [00:05<00:06, 17.14it/s]"
     ]
    },
    {
     "name": "stdout",
     "output_type": "stream",
     "text": [
      "Subgraph for super node 00002_00029 has 49 nodes and 156 edges.\n",
      "Subgraph for super node 00002_00030 has 49 nodes and 156 edges.\n",
      "Subgraph for super node 00002_00031 has 49 nodes and 156 edges.\n",
      "Subgraph for super node 00002_00032 has 49 nodes and 156 edges.\n",
      "Subgraph for super node 00002_00033 has 49 nodes and 156 edges.\n",
      "Subgraph for super node 00002_00034 has 49 nodes and 156 edges.\n"
     ]
    },
    {
     "name": "stderr",
     "output_type": "stream",
     "text": [
      "Processing super nodes:  59%|█████▊    | 150/256 [00:05<00:06, 16.32it/s]"
     ]
    },
    {
     "name": "stdout",
     "output_type": "stream",
     "text": [
      "Subgraph for super node 00002_00035 has 49 nodes and 156 edges.\n",
      "Subgraph for super node 00002_00036 has 49 nodes and 156 edges.\n",
      "Subgraph for super node 00002_00037 has 49 nodes and 156 edges.\n",
      "Subgraph for super node 00002_00038 has 49 nodes and 156 edges.\n",
      "Subgraph for super node 00002_00039 has 49 nodes and 156 edges.\n"
     ]
    },
    {
     "name": "stderr",
     "output_type": "stream",
     "text": [
      "Processing super nodes:  61%|██████    | 156/256 [00:06<00:06, 15.63it/s]"
     ]
    },
    {
     "name": "stdout",
     "output_type": "stream",
     "text": [
      "Subgraph for super node 00002_00040 has 49 nodes and 156 edges.\n",
      "Subgraph for super node 00002_00041 has 49 nodes and 156 edges.\n",
      "Subgraph for super node 00002_00042 has 49 nodes and 156 edges.\n",
      "Subgraph for super node 00002_00043 has 49 nodes and 156 edges.\n",
      "Subgraph for super node 00002_00044 has 49 nodes and 156 edges.\n"
     ]
    },
    {
     "name": "stderr",
     "output_type": "stream",
     "text": [
      "Processing super nodes:  62%|██████▎   | 160/256 [00:06<00:06, 15.38it/s]"
     ]
    },
    {
     "name": "stdout",
     "output_type": "stream",
     "text": [
      "Subgraph for super node 00002_00045 has 49 nodes and 156 edges.\n",
      "Subgraph for super node 00002_00046 has 49 nodes and 156 edges.\n",
      "Subgraph for super node 00002_00047 has 49 nodes and 156 edges.\n",
      "Subgraph for super node 00002_00048 has 49 nodes and 156 edges.\n"
     ]
    },
    {
     "name": "stderr",
     "output_type": "stream",
     "text": [
      "Processing super nodes:  64%|██████▍   | 164/256 [00:06<00:06, 15.06it/s]"
     ]
    },
    {
     "name": "stdout",
     "output_type": "stream",
     "text": [
      "Subgraph for super node 00002_00049 has 49 nodes and 156 edges.\n",
      "Subgraph for super node 00002_00050 has 49 nodes and 156 edges.\n",
      "Subgraph for super node 00002_00051 has 49 nodes and 156 edges.\n",
      "Subgraph for super node 00002_00052 has 49 nodes and 156 edges.\n",
      "Subgraph for super node 00002_00053 has 49 nodes and 156 edges.\n"
     ]
    },
    {
     "name": "stderr",
     "output_type": "stream",
     "text": [
      "Processing super nodes:  66%|██████▋   | 170/256 [00:07<00:05, 15.09it/s]"
     ]
    },
    {
     "name": "stdout",
     "output_type": "stream",
     "text": [
      "Subgraph for super node 00002_00054 has 49 nodes and 156 edges.\n",
      "Subgraph for super node 00002_00055 has 49 nodes and 156 edges.\n",
      "Subgraph for super node 00002_00056 has 49 nodes and 156 edges.\n",
      "Subgraph for super node 00002_00057 has 49 nodes and 156 edges.\n",
      "Subgraph for super node 00002_00058 has 49 nodes and 156 edges.\n"
     ]
    },
    {
     "name": "stderr",
     "output_type": "stream",
     "text": [
      "Processing super nodes:  68%|██████▊   | 174/256 [00:07<00:06, 13.14it/s]"
     ]
    },
    {
     "name": "stdout",
     "output_type": "stream",
     "text": [
      "Subgraph for super node 00002_00059 has 49 nodes and 156 edges.\n",
      "Subgraph for super node 00002_00060 has 49 nodes and 156 edges.\n",
      "Subgraph for super node 00002_00061 has 49 nodes and 156 edges.\n"
     ]
    },
    {
     "name": "stderr",
     "output_type": "stream",
     "text": [
      "Processing super nodes:  69%|██████▉   | 176/256 [00:07<00:06, 13.24it/s]"
     ]
    },
    {
     "name": "stdout",
     "output_type": "stream",
     "text": [
      "Subgraph for super node 00002_00062 has 49 nodes and 156 edges.\n",
      "Subgraph for super node 00002_00063 has 49 nodes and 156 edges.\n",
      "Subgraph for super node 00002_00064 has 49 nodes and 156 edges.\n",
      "Subgraph for super node 00002_00065 has 49 nodes and 156 edges.\n"
     ]
    },
    {
     "name": "stderr",
     "output_type": "stream",
     "text": [
      "Processing super nodes:  71%|███████   | 182/256 [00:08<00:05, 14.31it/s]"
     ]
    },
    {
     "name": "stdout",
     "output_type": "stream",
     "text": [
      "Subgraph for super node 00002_00066 has 49 nodes and 156 edges.\n",
      "Subgraph for super node 00002_00067 has 49 nodes and 156 edges.\n",
      "Subgraph for super node 00002_00068 has 49 nodes and 156 edges.\n",
      "Subgraph for super node 00002_00069 has 49 nodes and 156 edges.\n"
     ]
    },
    {
     "name": "stderr",
     "output_type": "stream",
     "text": [
      "Processing super nodes:  73%|███████▎  | 186/256 [00:08<00:04, 14.65it/s]"
     ]
    },
    {
     "name": "stdout",
     "output_type": "stream",
     "text": [
      "Subgraph for super node 00002_00070 has 49 nodes and 156 edges.\n",
      "Subgraph for super node 00002_00071 has 49 nodes and 156 edges.\n",
      "Subgraph for super node 00002_00072 has 49 nodes and 156 edges.\n",
      "Subgraph for super node 00002_00073 has 49 nodes and 156 edges.\n",
      "Subgraph for super node 00002_00074 has 49 nodes and 156 edges.\n"
     ]
    },
    {
     "name": "stderr",
     "output_type": "stream",
     "text": [
      "Processing super nodes:  74%|███████▍  | 190/256 [00:08<00:04, 14.75it/s]"
     ]
    },
    {
     "name": "stdout",
     "output_type": "stream",
     "text": [
      "Subgraph for super node 00002_00075 has 49 nodes and 156 edges.\n",
      "Subgraph for super node 00002_00076 has 49 nodes and 156 edges.\n",
      "Subgraph for super node 00002_00077 has 49 nodes and 156 edges.\n",
      "Subgraph for super node 00002_00078 has 49 nodes and 156 edges.\n"
     ]
    },
    {
     "name": "stderr",
     "output_type": "stream",
     "text": [
      "Processing super nodes:  76%|███████▌  | 194/256 [00:08<00:04, 15.00it/s]"
     ]
    },
    {
     "name": "stdout",
     "output_type": "stream",
     "text": [
      "Subgraph for super node 00002_00079 has 49 nodes and 156 edges.\n",
      "Subgraph for super node 00002_00080 has 49 nodes and 156 edges.\n",
      "Subgraph for super node 00002_00081 has 49 nodes and 156 edges.\n",
      "Subgraph for super node 00002_00082 has 49 nodes and 156 edges.\n"
     ]
    },
    {
     "name": "stderr",
     "output_type": "stream",
     "text": [
      "Processing super nodes:  77%|███████▋  | 198/256 [00:09<00:03, 15.00it/s]"
     ]
    },
    {
     "name": "stdout",
     "output_type": "stream",
     "text": [
      "Subgraph for super node 00002_00083 has 49 nodes and 156 edges.\n",
      "Subgraph for super node 00002_00084 has 49 nodes and 156 edges.\n",
      "Subgraph for super node 00002_00085 has 49 nodes and 156 edges.\n",
      "Subgraph for super node 00002_00086 has 49 nodes and 156 edges.\n"
     ]
    },
    {
     "name": "stderr",
     "output_type": "stream",
     "text": [
      "Processing super nodes:  79%|███████▉  | 202/256 [00:09<00:03, 15.06it/s]"
     ]
    },
    {
     "name": "stdout",
     "output_type": "stream",
     "text": [
      "Subgraph for super node 00002_00087 has 49 nodes and 156 edges.\n",
      "Subgraph for super node 00002_00088 has 49 nodes and 156 edges.\n",
      "Subgraph for super node 00002_00089 has 49 nodes and 156 edges.\n",
      "Subgraph for super node 00002_00090 has 49 nodes and 156 edges.\n"
     ]
    },
    {
     "name": "stderr",
     "output_type": "stream",
     "text": [
      "Processing super nodes:  80%|████████  | 206/256 [00:09<00:03, 15.01it/s]"
     ]
    },
    {
     "name": "stdout",
     "output_type": "stream",
     "text": [
      "Subgraph for super node 00002_00091 has 49 nodes and 156 edges.\n",
      "Subgraph for super node 00002_00092 has 49 nodes and 156 edges.\n",
      "Subgraph for super node 00002_00093 has 49 nodes and 156 edges.\n",
      "Subgraph for super node 00002_00094 has 49 nodes and 156 edges.\n"
     ]
    },
    {
     "name": "stderr",
     "output_type": "stream",
     "text": [
      "Processing super nodes:  83%|████████▎ | 212/256 [00:10<00:02, 18.56it/s]"
     ]
    },
    {
     "name": "stdout",
     "output_type": "stream",
     "text": [
      "Subgraph for super node 00002_00095 has 49 nodes and 156 edges.\n",
      "Subgraph for super node 00002_00096 has 47 nodes and 149 edges.\n",
      "Subgraph for super node 00002_00097 has 7 nodes and 11 edges.\n",
      "Subgraph for super node 00003_00026 has 28 nodes and 80 edges.\n",
      "Subgraph for super node 00003_00027 has 49 nodes and 156 edges.\n",
      "Subgraph for super node 00003_00028 has 49 nodes and 156 edges.\n"
     ]
    },
    {
     "name": "stderr",
     "output_type": "stream",
     "text": [
      "Processing super nodes:  84%|████████▍ | 216/256 [00:10<00:02, 16.88it/s]"
     ]
    },
    {
     "name": "stdout",
     "output_type": "stream",
     "text": [
      "Subgraph for super node 00003_00029 has 49 nodes and 156 edges.\n",
      "Subgraph for super node 00003_00030 has 49 nodes and 156 edges.\n",
      "Subgraph for super node 00003_00031 has 49 nodes and 156 edges.\n",
      "Subgraph for super node 00003_00032 has 49 nodes and 156 edges.\n",
      "Subgraph for super node 00003_00033 has 49 nodes and 156 edges.\n"
     ]
    },
    {
     "name": "stderr",
     "output_type": "stream",
     "text": [
      "Processing super nodes:  87%|████████▋ | 222/256 [00:10<00:02, 15.77it/s]"
     ]
    },
    {
     "name": "stdout",
     "output_type": "stream",
     "text": [
      "Subgraph for super node 00003_00034 has 49 nodes and 156 edges.\n",
      "Subgraph for super node 00003_00035 has 49 nodes and 156 edges.\n",
      "Subgraph for super node 00003_00036 has 49 nodes and 156 edges.\n",
      "Subgraph for super node 00003_00037 has 49 nodes and 156 edges.\n"
     ]
    },
    {
     "name": "stderr",
     "output_type": "stream",
     "text": [
      "Processing super nodes:  88%|████████▊ | 224/256 [00:10<00:02, 15.62it/s]"
     ]
    },
    {
     "name": "stdout",
     "output_type": "stream",
     "text": [
      "Subgraph for super node 00003_00038 has 49 nodes and 156 edges.\n",
      "Subgraph for super node 00003_00039 has 49 nodes and 156 edges.\n",
      "Subgraph for super node 00003_00040 has 49 nodes and 156 edges.\n"
     ]
    },
    {
     "name": "stderr",
     "output_type": "stream",
     "text": [
      "Processing super nodes:  89%|████████▉ | 228/256 [00:11<00:01, 14.05it/s]"
     ]
    },
    {
     "name": "stdout",
     "output_type": "stream",
     "text": [
      "Subgraph for super node 00003_00041 has 49 nodes and 156 edges.\n",
      "Subgraph for super node 00003_00042 has 49 nodes and 156 edges.\n",
      "Subgraph for super node 00003_00043 has 49 nodes and 156 edges.\n",
      "Subgraph for super node 00003_00044 has 49 nodes and 156 edges.\n"
     ]
    },
    {
     "name": "stderr",
     "output_type": "stream",
     "text": [
      "Processing super nodes:  91%|█████████ | 232/256 [00:11<00:01, 14.49it/s]"
     ]
    },
    {
     "name": "stdout",
     "output_type": "stream",
     "text": [
      "Subgraph for super node 00003_00045 has 49 nodes and 156 edges.\n",
      "Subgraph for super node 00003_00046 has 49 nodes and 156 edges.\n",
      "Subgraph for super node 00003_00047 has 49 nodes and 156 edges.\n",
      "Subgraph for super node 00003_00048 has 49 nodes and 156 edges.\n",
      "Subgraph for super node 00003_00049 has 49 nodes and 156 edges.\n"
     ]
    },
    {
     "name": "stderr",
     "output_type": "stream",
     "text": [
      "Processing super nodes:  93%|█████████▎| 238/256 [00:11<00:01, 14.70it/s]"
     ]
    },
    {
     "name": "stdout",
     "output_type": "stream",
     "text": [
      "Subgraph for super node 00003_00050 has 49 nodes and 156 edges.\n",
      "Subgraph for super node 00003_00051 has 49 nodes and 156 edges.\n",
      "Subgraph for super node 00003_00052 has 49 nodes and 156 edges.\n",
      "Subgraph for super node 00003_00053 has 49 nodes and 156 edges.\n",
      "Subgraph for super node 00003_00054 has 49 nodes and 156 edges.\n"
     ]
    },
    {
     "name": "stderr",
     "output_type": "stream",
     "text": [
      "Processing super nodes:  95%|█████████▍| 242/256 [00:12<00:00, 14.94it/s]"
     ]
    },
    {
     "name": "stdout",
     "output_type": "stream",
     "text": [
      "Subgraph for super node 00003_00055 has 49 nodes and 156 edges.\n",
      "Subgraph for super node 00003_00056 has 49 nodes and 156 edges.\n",
      "Subgraph for super node 00003_00057 has 49 nodes and 156 edges.\n",
      "Subgraph for super node 00003_00058 has 49 nodes and 156 edges.\n"
     ]
    },
    {
     "name": "stderr",
     "output_type": "stream",
     "text": [
      "Processing super nodes:  96%|█████████▌| 246/256 [00:12<00:00, 14.99it/s]"
     ]
    },
    {
     "name": "stdout",
     "output_type": "stream",
     "text": [
      "Subgraph for super node 00003_00059 has 49 nodes and 156 edges.\n",
      "Subgraph for super node 00003_00060 has 49 nodes and 156 edges.\n",
      "Subgraph for super node 00003_00061 has 49 nodes and 156 edges.\n",
      "Subgraph for super node 00003_00062 has 49 nodes and 156 edges.\n"
     ]
    },
    {
     "name": "stderr",
     "output_type": "stream",
     "text": [
      "Processing super nodes:  98%|█████████▊| 250/256 [00:12<00:00, 15.11it/s]"
     ]
    },
    {
     "name": "stdout",
     "output_type": "stream",
     "text": [
      "Subgraph for super node 00003_00063 has 49 nodes and 156 edges.\n",
      "Subgraph for super node 00003_00064 has 49 nodes and 156 edges.\n",
      "Subgraph for super node 00003_00065 has 49 nodes and 156 edges.\n",
      "Subgraph for super node 00003_00066 has 49 nodes and 156 edges.\n"
     ]
    },
    {
     "name": "stderr",
     "output_type": "stream",
     "text": [
      "Processing super nodes:  99%|█████████▉| 254/256 [00:12<00:00, 15.10it/s]"
     ]
    },
    {
     "name": "stdout",
     "output_type": "stream",
     "text": [
      "Subgraph for super node 00003_00067 has 49 nodes and 156 edges.\n",
      "Subgraph for super node 00003_00068 has 49 nodes and 156 edges.\n",
      "Subgraph for super node 00003_00069 has 49 nodes and 156 edges.\n",
      "Subgraph for super node 00003_00070 has 49 nodes and 156 edges.\n"
     ]
    },
    {
     "name": "stderr",
     "output_type": "stream",
     "text": [
      "Processing super nodes: 100%|██████████| 256/256 [00:13<00:00, 19.65it/s]\n"
     ]
    },
    {
     "name": "stdout",
     "output_type": "stream",
     "text": [
      "Subgraph for super node 00003_00071 has 49 nodes and 156 edges.\n"
     ]
    }
   ],
   "source": [
    "device, subset_size, verbose, sizes, batch_size, input_dim, hidden_dim, gnn_type = load_parameter()\n",
    "data = load_data(subset_size, verbose, hidden_dim)"
   ]
  },
  {
   "cell_type": "code",
   "execution_count": 3,
   "metadata": {},
   "outputs": [],
   "source": [
    "sampler = NeighborSampler(edge_index=data.super_node_edge, sizes=sizes, batch_size=batch_size, shuffle=True, num_workers=0)\n",
    "model = GraphAutoencoder(input_dim=input_dim, hidden_dim=hidden_dim, gnn_type=gnn_type).to(device)\n",
    "noise_predictor = NoisePredictor(hidden_dim=hidden_dim, output_dim=input_dim).to(device)\n",
    "optimizer = torch.optim.Adam(list(model.parameters()) + list(noise_predictor.parameters()) + list(data.normal_node_hidden.parameters()), lr=0.01, weight_decay=0.0001)\n",
    "criterion = torch.nn.MSELoss()"
   ]
  },
  {
   "cell_type": "code",
   "execution_count": 4,
   "metadata": {},
   "outputs": [
    {
     "name": "stdout",
     "output_type": "stream",
     "text": [
      "Epoch 1, Loss: 916.2889003753662\n",
      "Epoch 2, Loss: 137.91349506378174\n",
      "Epoch 3, Loss: 122.36096000671387\n",
      "Epoch 4, Loss: 106.85577201843262\n",
      "Epoch 5, Loss: 93.84435749053955\n",
      "Epoch 6, Loss: 91.88889598846436\n",
      "Epoch 7, Loss: 79.97829341888428\n",
      "Epoch 8, Loss: 75.13064193725586\n",
      "Epoch 9, Loss: 68.83605527877808\n",
      "Epoch 10, Loss: 64.89547967910767\n"
     ]
    }
   ],
   "source": [
    "epochs = 10\n",
    "for epoch in range(epochs):\n",
    "    model.train()\n",
    "    noise_predictor.train()\n",
    "    total_loss = 0\n",
    "    for batch_size, n_id, adjs in sampler:\n",
    "        optimizer.zero_grad()\n",
    "        x = data.super_node_features[n_id].to(device)  # Node feature matrix\n",
    "\n",
    "        adjs = [adj.to(device) for adj in adjs]\n",
    "        edge_indices = [adj.edge_index for adj in adjs]\n",
    "\n",
    "        z, logits = model(x, edge_indices)\n",
    "        \n",
    "        # Compute autoencoder loss\n",
    "        loss = criterion(logits, x)\n",
    "\n",
    "        # Compute loss for normal node hidden representations\n",
    "        for i, super_node_id in enumerate(n_id):\n",
    "            super_node = data.inverse_super_node_mapping[super_node_id.item()]\n",
    "            subgraph = data.subgraphs[super_node]\n",
    "\n",
    "            normal_node_hidden = torch.stack([data.normal_node_hidden[node] for node in subgraph.nodes]).to(device)\n",
    "            super_node_hidden = z[i].to(device)  # Use local batch index i\n",
    "\n",
    "            readout_result = custom_readout(normal_node_hidden)\n",
    "            predicted_noise = noise_predictor(super_node_hidden)\n",
    "\n",
    "            # Get edge indices for normal nodes\n",
    "            normal_edge_index = data.get_normal_node_edge_index(super_node).to(device)\n",
    "\n",
    "            # Decode normal node hidden representations to gene expression\n",
    "            node_gene_expression = F.relu(model.decoder_layer2(model.decoder_layer1(normal_node_hidden, normal_edge_index), normal_edge_index))\n",
    "\n",
    "            # Compute the reverse log1p transformation\n",
    "            real_node_gene_expression = torch.exp(node_gene_expression) - 1\n",
    "            real_predicted_noise = torch.exp(predicted_noise) - 1\n",
    "\n",
    "            # Sum real node gene expressions and add the real predicted noise\n",
    "            combined_gene_expression = real_node_gene_expression.sum(dim=0) + real_predicted_noise\n",
    "            \n",
    "            # Convert back to log1p for computing MSE loss\n",
    "            combined_gene_expression_log1p = torch.log1p(combined_gene_expression)\n",
    "\n",
    "            # Compute the reverse log1p transformation for super node gene expression\n",
    "            super_node_gene_expression = torch.tensor(data.super_node_data.loc[super_node].values, dtype=torch.float).to(device)\n",
    "\n",
    "            # Compute gene expression loss\n",
    "            gene_expression_loss = criterion(combined_gene_expression_log1p, super_node_gene_expression)\n",
    "\n",
    "            # Minimize readout loss and gene expression loss\n",
    "            loss += criterion(readout_result, super_node_hidden) + gene_expression_loss\n",
    "\n",
    "        total_loss += loss.item()\n",
    "        loss.backward()\n",
    "        optimizer.step()\n",
    "\n",
    "    print(f'Epoch {epoch+1}, Loss: {total_loss/len(sampler)}')"
   ]
  },
  {
   "cell_type": "code",
   "execution_count": 5,
   "metadata": {},
   "outputs": [],
   "source": [
    "mse_loss = evaluate(model, data, device)"
   ]
  },
  {
   "cell_type": "code",
   "execution_count": 6,
   "metadata": {},
   "outputs": [
    {
     "name": "stdout",
     "output_type": "stream",
     "text": [
      "Average MSE Loss: 0.6101446039634372\n"
     ]
    }
   ],
   "source": [
    "print(f'Average MSE Loss: {mse_loss}')"
   ]
  },
  {
   "cell_type": "code",
   "execution_count": 16,
   "metadata": {},
   "outputs": [],
   "source": [
    "model.eval()\n",
    "criterion = torch.nn.MSELoss()\n",
    "total_mse_loss = 0\n",
    "total_nodes = 0\n",
    "\n",
    "sampler = NeighborSampler(edge_index=data.super_node_edge, sizes=[-1]*2, batch_size=batch_size, shuffle=False, num_workers=0)\n",
    "\n",
    "with torch.no_grad():\n",
    "    for batch_size, n_id, adjs in sampler:\n",
    "        for i, super_node_id in enumerate(n_id):\n",
    "            super_node = data.inverse_super_node_mapping[super_node_id.item()]\n",
    "            subgraph = data.subgraphs[super_node]\n",
    "            normal_node_hidden = torch.stack([data.normal_node_hidden[node] for node in subgraph.nodes]).to(device)\n",
    "\n",
    "            # Get edge indices for normal nodes\n",
    "            normal_edge_index = data.get_normal_node_edge_index(super_node).to(device)\n",
    "\n",
    "            # Decode normal node hidden representations to gene expression\n",
    "            node_gene_expression = F.relu(model.decoder_layer2(model.decoder_layer1(normal_node_hidden, normal_edge_index), normal_edge_index))\n",
    "\n",
    "            # Get the real node gene expressions from the dataset\n",
    "            real_node_gene_expression = torch.stack([\n",
    "                torch.tensor(subgraph.nodes[node]['features'].todense(), dtype=torch.float).to(device) \n",
    "                if hasattr(subgraph.nodes[node]['features'], 'todense') \n",
    "                else torch.tensor(subgraph.nodes[node]['features'], dtype=torch.float).to(device)\n",
    "                for node in subgraph.nodes\n",
    "            ])\n",
    "\n",
    "            # Ensure the real_node_gene_expression has the same shape as node_gene_expression\n",
    "            real_node_gene_expression = real_node_gene_expression.squeeze()\n",
    "\n",
    "            # Compute the MSE loss for this subgraph\n",
    "            mse_loss = criterion(node_gene_expression, real_node_gene_expression)\n",
    "            total_mse_loss += mse_loss.item() * len(subgraph.nodes)\n",
    "            total_nodes += len(subgraph.nodes)\n",
    "            \n",
    "            break\n",
    "        break"
   ]
  },
  {
   "cell_type": "code",
   "execution_count": 17,
   "metadata": {},
   "outputs": [
    {
     "data": {
      "text/plain": [
       "tensor([[0.0000, 0.0000, 0.3093,  ..., 1.7027, 0.0000, 0.0000],\n",
       "        [0.0000, 0.0000, 0.3387,  ..., 1.2476, 0.0000, 0.0000],\n",
       "        [0.0000, 0.0000, 0.3719,  ..., 1.7987, 0.0000, 0.0000]],\n",
       "       device='cuda:0')"
      ]
     },
     "execution_count": 17,
     "metadata": {},
     "output_type": "execute_result"
    }
   ],
   "source": [
    "node_gene_expression"
   ]
  },
  {
   "cell_type": "code",
   "execution_count": 18,
   "metadata": {},
   "outputs": [
    {
     "data": {
      "text/plain": [
       "tensor([[0.0000, 0.0000, 0.0000,  ..., 4.9092, 0.0000, 0.0000],\n",
       "        [0.0000, 0.0000, 0.0000,  ..., 5.9050, 0.0000, 0.0000],\n",
       "        [0.0000, 0.0000, 0.0000,  ..., 4.5118, 0.0000, 0.0000]],\n",
       "       device='cuda:0')"
      ]
     },
     "execution_count": 18,
     "metadata": {},
     "output_type": "execute_result"
    }
   ],
   "source": [
    "real_node_gene_expression"
   ]
  },
  {
   "cell_type": "code",
   "execution_count": 19,
   "metadata": {},
   "outputs": [
    {
     "name": "stdout",
     "output_type": "stream",
     "text": [
      "[[0.       0.       0.       ... 4.909187 0.       0.      ]]\n",
      "[[0.       0.       0.       ... 5.904963 0.       0.      ]]\n",
      "[[0.       0.       0.       ... 4.511849 0.       0.      ]]\n"
     ]
    }
   ],
   "source": [
    "for node in subgraph.nodes:\n",
    "    print(subgraph.nodes[node]['features'].todense())"
   ]
  },
  {
   "cell_type": "code",
   "execution_count": 20,
   "metadata": {},
   "outputs": [
    {
     "data": {
      "text/plain": [
       "tensor([0.0000, 0.0000, 0.0000,  ..., 5.1315, 0.0000, 0.0000])"
      ]
     },
     "execution_count": 20,
     "metadata": {},
     "output_type": "execute_result"
    }
   ],
   "source": [
    "data.super_node_features[data.super_node_mapping[super_node]]"
   ]
  },
  {
   "cell_type": "code",
   "execution_count": null,
   "metadata": {},
   "outputs": [],
   "source": []
  },
  {
   "cell_type": "code",
   "execution_count": null,
   "metadata": {},
   "outputs": [],
   "source": []
  }
 ],
 "metadata": {
  "kernelspec": {
   "display_name": "py38",
   "language": "python",
   "name": "python3"
  },
  "language_info": {
   "codemirror_mode": {
    "name": "ipython",
    "version": 3
   },
   "file_extension": ".py",
   "mimetype": "text/x-python",
   "name": "python",
   "nbconvert_exporter": "python",
   "pygments_lexer": "ipython3",
   "version": "3.8.0"
  }
 },
 "nbformat": 4,
 "nbformat_minor": 2
}
